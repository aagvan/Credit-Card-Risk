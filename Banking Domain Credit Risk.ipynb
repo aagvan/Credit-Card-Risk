{
 "cells": [
  {
   "cell_type": "markdown",
   "id": "68d44208",
   "metadata": {},
   "source": [
    "## Introduction\n",
    "\n",
    "Financial markets are fundamental institutions in any developing economy. They\n",
    "play a crucial role in promoting economic growth by facilitating the channeling of\n",
    "saving decisions into productive investment. A major concern for financial\n",
    "institutions is credit risk, because if not managed properly, it can lead to a\n",
    "banking collapse.\n",
    "In our banking system, banks have many products to sell but the main source of\n",
    "income of any bank is on its credit line. Loan is the core business part of banks.\n",
    "A bank's profit or a loss depends to a large extent on loans i.e. whether the\n",
    "customers are paying back the loan or defaulting.\n",
    "Though a lot of people are applying for loans. However, they may have some\n",
    "difficulty in repaying the loan, due to their own capability to repay loan, their\n",
    "personal monetary terms, etc.. It’s hard to select the genuine applicant, who will\n",
    "repay the loan. While doing the process manually, a lot of misconception may\n",
    "happen to select the genuine applicant. The banks hold the risk of losing the\n",
    "amount loaned to the borrowers, which is basically regarded as \"Credit risk\".\n",
    "Credit risk is the potential that a bank’s borrower or counterparty fails to meet its\n",
    "obligations in repaying the loan borrowed from the financial institutions (\"banks\").\n",
    "By predicting the loan defaulters, the bank can reduce its Non-Performing\n",
    "Assets. This makes the study of this phenomenon very important.\n",
    "Thus, the banks need to manage the credit risks in their portfolio both at the\n",
    "individual borrower and transactional level, as well as to consider the linkage\n",
    "between credit risks and other types of risk. This is because these are criteria to\n",
    "assess the success/failure of any banking lending activities.\n",
    "Many research confirmed that machine learning technology is highly efficient to\n",
    "predict this situation. This technique is applied through learning from previous\n",
    "data.\n"
   ]
  },
  {
   "cell_type": "markdown",
   "id": "2f071ce7",
   "metadata": {},
   "source": [
    "### Objective - Our objective is to perform Exploratory Data Analysis(EDA) on the given dataset to learn the patterns and identify the \"Credit risk\"."
   ]
  },
  {
   "cell_type": "markdown",
   "id": "46948081",
   "metadata": {},
   "source": [
    "## Step - 1: Load the data"
   ]
  },
  {
   "cell_type": "code",
   "execution_count": 1,
   "id": "1c5a6b7a",
   "metadata": {},
   "outputs": [],
   "source": [
    "import numpy as np\n",
    "import pandas as pd\n",
    "import matplotlib.pyplot as plt\n",
    "import seaborn as sns\n",
    "import warnings\n",
    "warnings.filterwarnings('ignore')"
   ]
  },
  {
   "cell_type": "code",
   "execution_count": 2,
   "id": "9c95a38b",
   "metadata": {},
   "outputs": [
    {
     "data": {
      "text/html": [
       "<div>\n",
       "<style scoped>\n",
       "    .dataframe tbody tr th:only-of-type {\n",
       "        vertical-align: middle;\n",
       "    }\n",
       "\n",
       "    .dataframe tbody tr th {\n",
       "        vertical-align: top;\n",
       "    }\n",
       "\n",
       "    .dataframe thead th {\n",
       "        text-align: right;\n",
       "    }\n",
       "</style>\n",
       "<table border=\"1\" class=\"dataframe\">\n",
       "  <thead>\n",
       "    <tr style=\"text-align: right;\">\n",
       "      <th></th>\n",
       "      <th>person_age</th>\n",
       "      <th>person_income</th>\n",
       "      <th>person_home_ownership</th>\n",
       "      <th>person_emp_length</th>\n",
       "      <th>loan_intent</th>\n",
       "      <th>loan_grade</th>\n",
       "      <th>loan_amnt</th>\n",
       "      <th>loan_int_rate</th>\n",
       "      <th>loan_status</th>\n",
       "      <th>loan_percent_income</th>\n",
       "      <th>cb_person_default_on_file</th>\n",
       "      <th>cb_person_cred_hist_length</th>\n",
       "    </tr>\n",
       "  </thead>\n",
       "  <tbody>\n",
       "    <tr>\n",
       "      <th>0</th>\n",
       "      <td>22</td>\n",
       "      <td>59000</td>\n",
       "      <td>RENT</td>\n",
       "      <td>123.0</td>\n",
       "      <td>PERSONAL</td>\n",
       "      <td>D</td>\n",
       "      <td>35000</td>\n",
       "      <td>16.02</td>\n",
       "      <td>1</td>\n",
       "      <td>0.59</td>\n",
       "      <td>Y</td>\n",
       "      <td>3</td>\n",
       "    </tr>\n",
       "    <tr>\n",
       "      <th>1</th>\n",
       "      <td>21</td>\n",
       "      <td>9600</td>\n",
       "      <td>OWN</td>\n",
       "      <td>5.0</td>\n",
       "      <td>EDUCATION</td>\n",
       "      <td>B</td>\n",
       "      <td>1000</td>\n",
       "      <td>11.14</td>\n",
       "      <td>0</td>\n",
       "      <td>0.10</td>\n",
       "      <td>N</td>\n",
       "      <td>2</td>\n",
       "    </tr>\n",
       "    <tr>\n",
       "      <th>2</th>\n",
       "      <td>25</td>\n",
       "      <td>9600</td>\n",
       "      <td>MORTGAGE</td>\n",
       "      <td>1.0</td>\n",
       "      <td>MEDICAL</td>\n",
       "      <td>C</td>\n",
       "      <td>5500</td>\n",
       "      <td>12.87</td>\n",
       "      <td>1</td>\n",
       "      <td>0.57</td>\n",
       "      <td>N</td>\n",
       "      <td>3</td>\n",
       "    </tr>\n",
       "    <tr>\n",
       "      <th>3</th>\n",
       "      <td>23</td>\n",
       "      <td>65500</td>\n",
       "      <td>RENT</td>\n",
       "      <td>4.0</td>\n",
       "      <td>MEDICAL</td>\n",
       "      <td>C</td>\n",
       "      <td>35000</td>\n",
       "      <td>15.23</td>\n",
       "      <td>1</td>\n",
       "      <td>0.53</td>\n",
       "      <td>N</td>\n",
       "      <td>2</td>\n",
       "    </tr>\n",
       "    <tr>\n",
       "      <th>4</th>\n",
       "      <td>24</td>\n",
       "      <td>54400</td>\n",
       "      <td>RENT</td>\n",
       "      <td>8.0</td>\n",
       "      <td>MEDICAL</td>\n",
       "      <td>C</td>\n",
       "      <td>35000</td>\n",
       "      <td>14.27</td>\n",
       "      <td>1</td>\n",
       "      <td>0.55</td>\n",
       "      <td>Y</td>\n",
       "      <td>4</td>\n",
       "    </tr>\n",
       "  </tbody>\n",
       "</table>\n",
       "</div>"
      ],
      "text/plain": [
       "   person_age  person_income person_home_ownership  person_emp_length  \\\n",
       "0          22          59000                  RENT              123.0   \n",
       "1          21           9600                   OWN                5.0   \n",
       "2          25           9600              MORTGAGE                1.0   \n",
       "3          23          65500                  RENT                4.0   \n",
       "4          24          54400                  RENT                8.0   \n",
       "\n",
       "  loan_intent loan_grade  loan_amnt  loan_int_rate  loan_status  \\\n",
       "0    PERSONAL          D      35000          16.02            1   \n",
       "1   EDUCATION          B       1000          11.14            0   \n",
       "2     MEDICAL          C       5500          12.87            1   \n",
       "3     MEDICAL          C      35000          15.23            1   \n",
       "4     MEDICAL          C      35000          14.27            1   \n",
       "\n",
       "   loan_percent_income cb_person_default_on_file  cb_person_cred_hist_length  \n",
       "0                 0.59                         Y                           3  \n",
       "1                 0.10                         N                           2  \n",
       "2                 0.57                         N                           3  \n",
       "3                 0.53                         N                           2  \n",
       "4                 0.55                         Y                           4  "
      ]
     },
     "execution_count": 2,
     "metadata": {},
     "output_type": "execute_result"
    }
   ],
   "source": [
    "df = pd.read_csv('credit_risk_dataset.csv')\n",
    "\n",
    "df.head()"
   ]
  },
  {
   "cell_type": "code",
   "execution_count": 3,
   "id": "026751cd",
   "metadata": {},
   "outputs": [
    {
     "data": {
      "text/plain": [
       "(32581, 12)"
      ]
     },
     "execution_count": 3,
     "metadata": {},
     "output_type": "execute_result"
    }
   ],
   "source": [
    "## Dimensionality check\n",
    "\n",
    "df.shape"
   ]
  },
  {
   "cell_type": "markdown",
   "id": "16d60d12",
   "metadata": {},
   "source": [
    "### Observation - Here we can see the dataset contains rows- 32581 and columns- 12 using shape parameter"
   ]
  },
  {
   "cell_type": "code",
   "execution_count": 4,
   "id": "6f361a99",
   "metadata": {},
   "outputs": [
    {
     "name": "stdout",
     "output_type": "stream",
     "text": [
      "<class 'pandas.core.frame.DataFrame'>\n",
      "RangeIndex: 32581 entries, 0 to 32580\n",
      "Data columns (total 12 columns):\n",
      " #   Column                      Non-Null Count  Dtype  \n",
      "---  ------                      --------------  -----  \n",
      " 0   person_age                  32581 non-null  int64  \n",
      " 1   person_income               32581 non-null  int64  \n",
      " 2   person_home_ownership       32581 non-null  object \n",
      " 3   person_emp_length           31686 non-null  float64\n",
      " 4   loan_intent                 32581 non-null  object \n",
      " 5   loan_grade                  32581 non-null  object \n",
      " 6   loan_amnt                   32581 non-null  int64  \n",
      " 7   loan_int_rate               29465 non-null  float64\n",
      " 8   loan_status                 32581 non-null  int64  \n",
      " 9   loan_percent_income         32581 non-null  float64\n",
      " 10  cb_person_default_on_file   32581 non-null  object \n",
      " 11  cb_person_cred_hist_length  32581 non-null  int64  \n",
      "dtypes: float64(3), int64(5), object(4)\n",
      "memory usage: 3.0+ MB\n"
     ]
    }
   ],
   "source": [
    "## Column data types\n",
    "\n",
    "df.info()"
   ]
  },
  {
   "cell_type": "code",
   "execution_count": 5,
   "id": "2943d6e0",
   "metadata": {},
   "outputs": [
    {
     "data": {
      "text/plain": [
       "person_age                       0\n",
       "person_income                    0\n",
       "person_home_ownership            0\n",
       "person_emp_length              895\n",
       "loan_intent                      0\n",
       "loan_grade                       0\n",
       "loan_amnt                        0\n",
       "loan_int_rate                 3116\n",
       "loan_status                      0\n",
       "loan_percent_income              0\n",
       "cb_person_default_on_file        0\n",
       "cb_person_cred_hist_length       0\n",
       "dtype: int64"
      ]
     },
     "execution_count": 5,
     "metadata": {},
     "output_type": "execute_result"
    }
   ],
   "source": [
    "## Checking null values\n",
    "\n",
    "df.isnull().sum()"
   ]
  },
  {
   "cell_type": "markdown",
   "id": "698fd6fb",
   "metadata": {},
   "source": [
    "### Observation - Here we can see the dataset contains some null values in person_emp_length and loan_int_rate columns"
   ]
  },
  {
   "cell_type": "code",
   "execution_count": 6,
   "id": "febabfd2",
   "metadata": {},
   "outputs": [],
   "source": [
    "# Imputing NaN values with median\n",
    "\n",
    "df['loan_int_rate'].fillna(df['loan_int_rate'].mean(), inplace = True)"
   ]
  },
  {
   "cell_type": "code",
   "execution_count": 7,
   "id": "a240df57",
   "metadata": {},
   "outputs": [],
   "source": [
    "# Dropped null values from person_emp_length column\n",
    "\n",
    "df.dropna(inplace=True)"
   ]
  },
  {
   "cell_type": "code",
   "execution_count": 8,
   "id": "6e5b4a22",
   "metadata": {},
   "outputs": [
    {
     "data": {
      "text/plain": [
       "person_age                    0\n",
       "person_income                 0\n",
       "person_home_ownership         0\n",
       "person_emp_length             0\n",
       "loan_intent                   0\n",
       "loan_grade                    0\n",
       "loan_amnt                     0\n",
       "loan_int_rate                 0\n",
       "loan_status                   0\n",
       "loan_percent_income           0\n",
       "cb_person_default_on_file     0\n",
       "cb_person_cred_hist_length    0\n",
       "dtype: int64"
      ]
     },
     "execution_count": 8,
     "metadata": {},
     "output_type": "execute_result"
    }
   ],
   "source": [
    "## Checking null values\n",
    "\n",
    "df.isnull().sum()"
   ]
  },
  {
   "cell_type": "markdown",
   "id": "4aa58711",
   "metadata": {},
   "source": [
    "### Observation - As checked there is no missing values present in the dataset"
   ]
  },
  {
   "cell_type": "code",
   "execution_count": 9,
   "id": "9a993455",
   "metadata": {},
   "outputs": [
    {
     "data": {
      "text/html": [
       "<div>\n",
       "<style scoped>\n",
       "    .dataframe tbody tr th:only-of-type {\n",
       "        vertical-align: middle;\n",
       "    }\n",
       "\n",
       "    .dataframe tbody tr th {\n",
       "        vertical-align: top;\n",
       "    }\n",
       "\n",
       "    .dataframe thead th {\n",
       "        text-align: right;\n",
       "    }\n",
       "</style>\n",
       "<table border=\"1\" class=\"dataframe\">\n",
       "  <thead>\n",
       "    <tr style=\"text-align: right;\">\n",
       "      <th></th>\n",
       "      <th>person_age</th>\n",
       "      <th>person_income</th>\n",
       "      <th>person_emp_length</th>\n",
       "      <th>loan_amnt</th>\n",
       "      <th>loan_int_rate</th>\n",
       "      <th>loan_status</th>\n",
       "      <th>loan_percent_income</th>\n",
       "      <th>cb_person_cred_hist_length</th>\n",
       "    </tr>\n",
       "  </thead>\n",
       "  <tbody>\n",
       "    <tr>\n",
       "      <th>count</th>\n",
       "      <td>31686.000000</td>\n",
       "      <td>3.168600e+04</td>\n",
       "      <td>31686.000000</td>\n",
       "      <td>31686.000000</td>\n",
       "      <td>31686.000000</td>\n",
       "      <td>31686.000000</td>\n",
       "      <td>31686.000000</td>\n",
       "      <td>31686.000000</td>\n",
       "    </tr>\n",
       "    <tr>\n",
       "      <th>mean</th>\n",
       "      <td>27.747302</td>\n",
       "      <td>6.669188e+04</td>\n",
       "      <td>4.789686</td>\n",
       "      <td>9661.337815</td>\n",
       "      <td>11.037157</td>\n",
       "      <td>0.215426</td>\n",
       "      <td>0.169612</td>\n",
       "      <td>5.809316</td>\n",
       "    </tr>\n",
       "    <tr>\n",
       "      <th>std</th>\n",
       "      <td>6.360283</td>\n",
       "      <td>6.242729e+04</td>\n",
       "      <td>4.142630</td>\n",
       "      <td>6336.226458</td>\n",
       "      <td>3.070128</td>\n",
       "      <td>0.411124</td>\n",
       "      <td>0.106297</td>\n",
       "      <td>4.060867</td>\n",
       "    </tr>\n",
       "    <tr>\n",
       "      <th>min</th>\n",
       "      <td>20.000000</td>\n",
       "      <td>4.000000e+03</td>\n",
       "      <td>0.000000</td>\n",
       "      <td>500.000000</td>\n",
       "      <td>5.420000</td>\n",
       "      <td>0.000000</td>\n",
       "      <td>0.000000</td>\n",
       "      <td>2.000000</td>\n",
       "    </tr>\n",
       "    <tr>\n",
       "      <th>25%</th>\n",
       "      <td>23.000000</td>\n",
       "      <td>3.939700e+04</td>\n",
       "      <td>2.000000</td>\n",
       "      <td>5000.000000</td>\n",
       "      <td>8.490000</td>\n",
       "      <td>0.000000</td>\n",
       "      <td>0.090000</td>\n",
       "      <td>3.000000</td>\n",
       "    </tr>\n",
       "    <tr>\n",
       "      <th>50%</th>\n",
       "      <td>26.000000</td>\n",
       "      <td>5.600000e+04</td>\n",
       "      <td>4.000000</td>\n",
       "      <td>8000.000000</td>\n",
       "      <td>11.011695</td>\n",
       "      <td>0.000000</td>\n",
       "      <td>0.150000</td>\n",
       "      <td>4.000000</td>\n",
       "    </tr>\n",
       "    <tr>\n",
       "      <th>75%</th>\n",
       "      <td>30.000000</td>\n",
       "      <td>8.000000e+04</td>\n",
       "      <td>7.000000</td>\n",
       "      <td>12500.000000</td>\n",
       "      <td>13.160000</td>\n",
       "      <td>0.000000</td>\n",
       "      <td>0.230000</td>\n",
       "      <td>8.000000</td>\n",
       "    </tr>\n",
       "    <tr>\n",
       "      <th>max</th>\n",
       "      <td>144.000000</td>\n",
       "      <td>6.000000e+06</td>\n",
       "      <td>123.000000</td>\n",
       "      <td>35000.000000</td>\n",
       "      <td>23.220000</td>\n",
       "      <td>1.000000</td>\n",
       "      <td>0.830000</td>\n",
       "      <td>30.000000</td>\n",
       "    </tr>\n",
       "  </tbody>\n",
       "</table>\n",
       "</div>"
      ],
      "text/plain": [
       "         person_age  person_income  person_emp_length     loan_amnt  \\\n",
       "count  31686.000000   3.168600e+04       31686.000000  31686.000000   \n",
       "mean      27.747302   6.669188e+04           4.789686   9661.337815   \n",
       "std        6.360283   6.242729e+04           4.142630   6336.226458   \n",
       "min       20.000000   4.000000e+03           0.000000    500.000000   \n",
       "25%       23.000000   3.939700e+04           2.000000   5000.000000   \n",
       "50%       26.000000   5.600000e+04           4.000000   8000.000000   \n",
       "75%       30.000000   8.000000e+04           7.000000  12500.000000   \n",
       "max      144.000000   6.000000e+06         123.000000  35000.000000   \n",
       "\n",
       "       loan_int_rate   loan_status  loan_percent_income  \\\n",
       "count   31686.000000  31686.000000         31686.000000   \n",
       "mean       11.037157      0.215426             0.169612   \n",
       "std         3.070128      0.411124             0.106297   \n",
       "min         5.420000      0.000000             0.000000   \n",
       "25%         8.490000      0.000000             0.090000   \n",
       "50%        11.011695      0.000000             0.150000   \n",
       "75%        13.160000      0.000000             0.230000   \n",
       "max        23.220000      1.000000             0.830000   \n",
       "\n",
       "       cb_person_cred_hist_length  \n",
       "count                31686.000000  \n",
       "mean                     5.809316  \n",
       "std                      4.060867  \n",
       "min                      2.000000  \n",
       "25%                      3.000000  \n",
       "50%                      4.000000  \n",
       "75%                      8.000000  \n",
       "max                     30.000000  "
      ]
     },
     "execution_count": 9,
     "metadata": {},
     "output_type": "execute_result"
    }
   ],
   "source": [
    "## Statistical Analysis\n",
    "\n",
    "df.describe()"
   ]
  },
  {
   "cell_type": "code",
   "execution_count": 10,
   "id": "f9d9fd7c",
   "metadata": {},
   "outputs": [
    {
     "data": {
      "text/html": [
       "<div>\n",
       "<style scoped>\n",
       "    .dataframe tbody tr th:only-of-type {\n",
       "        vertical-align: middle;\n",
       "    }\n",
       "\n",
       "    .dataframe tbody tr th {\n",
       "        vertical-align: top;\n",
       "    }\n",
       "\n",
       "    .dataframe thead th {\n",
       "        text-align: right;\n",
       "    }\n",
       "</style>\n",
       "<table border=\"1\" class=\"dataframe\">\n",
       "  <thead>\n",
       "    <tr style=\"text-align: right;\">\n",
       "      <th></th>\n",
       "      <th>count</th>\n",
       "      <th>mean</th>\n",
       "      <th>std</th>\n",
       "      <th>min</th>\n",
       "      <th>25%</th>\n",
       "      <th>50%</th>\n",
       "      <th>75%</th>\n",
       "      <th>max</th>\n",
       "    </tr>\n",
       "  </thead>\n",
       "  <tbody>\n",
       "    <tr>\n",
       "      <th>person_age</th>\n",
       "      <td>31686.0</td>\n",
       "      <td>27.747302</td>\n",
       "      <td>6.360283</td>\n",
       "      <td>20.00</td>\n",
       "      <td>23.00</td>\n",
       "      <td>26.000000</td>\n",
       "      <td>30.00</td>\n",
       "      <td>144.00</td>\n",
       "    </tr>\n",
       "    <tr>\n",
       "      <th>person_income</th>\n",
       "      <td>31686.0</td>\n",
       "      <td>66691.878306</td>\n",
       "      <td>62427.286689</td>\n",
       "      <td>4000.00</td>\n",
       "      <td>39397.00</td>\n",
       "      <td>56000.000000</td>\n",
       "      <td>80000.00</td>\n",
       "      <td>6000000.00</td>\n",
       "    </tr>\n",
       "    <tr>\n",
       "      <th>person_emp_length</th>\n",
       "      <td>31686.0</td>\n",
       "      <td>4.789686</td>\n",
       "      <td>4.142630</td>\n",
       "      <td>0.00</td>\n",
       "      <td>2.00</td>\n",
       "      <td>4.000000</td>\n",
       "      <td>7.00</td>\n",
       "      <td>123.00</td>\n",
       "    </tr>\n",
       "    <tr>\n",
       "      <th>loan_amnt</th>\n",
       "      <td>31686.0</td>\n",
       "      <td>9661.337815</td>\n",
       "      <td>6336.226458</td>\n",
       "      <td>500.00</td>\n",
       "      <td>5000.00</td>\n",
       "      <td>8000.000000</td>\n",
       "      <td>12500.00</td>\n",
       "      <td>35000.00</td>\n",
       "    </tr>\n",
       "    <tr>\n",
       "      <th>loan_int_rate</th>\n",
       "      <td>31686.0</td>\n",
       "      <td>11.037157</td>\n",
       "      <td>3.070128</td>\n",
       "      <td>5.42</td>\n",
       "      <td>8.49</td>\n",
       "      <td>11.011695</td>\n",
       "      <td>13.16</td>\n",
       "      <td>23.22</td>\n",
       "    </tr>\n",
       "    <tr>\n",
       "      <th>loan_status</th>\n",
       "      <td>31686.0</td>\n",
       "      <td>0.215426</td>\n",
       "      <td>0.411124</td>\n",
       "      <td>0.00</td>\n",
       "      <td>0.00</td>\n",
       "      <td>0.000000</td>\n",
       "      <td>0.00</td>\n",
       "      <td>1.00</td>\n",
       "    </tr>\n",
       "    <tr>\n",
       "      <th>loan_percent_income</th>\n",
       "      <td>31686.0</td>\n",
       "      <td>0.169612</td>\n",
       "      <td>0.106297</td>\n",
       "      <td>0.00</td>\n",
       "      <td>0.09</td>\n",
       "      <td>0.150000</td>\n",
       "      <td>0.23</td>\n",
       "      <td>0.83</td>\n",
       "    </tr>\n",
       "    <tr>\n",
       "      <th>cb_person_cred_hist_length</th>\n",
       "      <td>31686.0</td>\n",
       "      <td>5.809316</td>\n",
       "      <td>4.060867</td>\n",
       "      <td>2.00</td>\n",
       "      <td>3.00</td>\n",
       "      <td>4.000000</td>\n",
       "      <td>8.00</td>\n",
       "      <td>30.00</td>\n",
       "    </tr>\n",
       "  </tbody>\n",
       "</table>\n",
       "</div>"
      ],
      "text/plain": [
       "                              count          mean           std      min  \\\n",
       "person_age                  31686.0     27.747302      6.360283    20.00   \n",
       "person_income               31686.0  66691.878306  62427.286689  4000.00   \n",
       "person_emp_length           31686.0      4.789686      4.142630     0.00   \n",
       "loan_amnt                   31686.0   9661.337815   6336.226458   500.00   \n",
       "loan_int_rate               31686.0     11.037157      3.070128     5.42   \n",
       "loan_status                 31686.0      0.215426      0.411124     0.00   \n",
       "loan_percent_income         31686.0      0.169612      0.106297     0.00   \n",
       "cb_person_cred_hist_length  31686.0      5.809316      4.060867     2.00   \n",
       "\n",
       "                                 25%           50%       75%         max  \n",
       "person_age                     23.00     26.000000     30.00      144.00  \n",
       "person_income               39397.00  56000.000000  80000.00  6000000.00  \n",
       "person_emp_length               2.00      4.000000      7.00      123.00  \n",
       "loan_amnt                    5000.00   8000.000000  12500.00    35000.00  \n",
       "loan_int_rate                   8.49     11.011695     13.16       23.22  \n",
       "loan_status                     0.00      0.000000      0.00        1.00  \n",
       "loan_percent_income             0.09      0.150000      0.23        0.83  \n",
       "cb_person_cred_hist_length      3.00      4.000000      8.00       30.00  "
      ]
     },
     "execution_count": 10,
     "metadata": {},
     "output_type": "execute_result"
    }
   ],
   "source": [
    "df.describe().T"
   ]
  },
  {
   "cell_type": "code",
   "execution_count": 11,
   "id": "6560fbe2",
   "metadata": {},
   "outputs": [
    {
     "data": {
      "text/html": [
       "<div>\n",
       "<style scoped>\n",
       "    .dataframe tbody tr th:only-of-type {\n",
       "        vertical-align: middle;\n",
       "    }\n",
       "\n",
       "    .dataframe tbody tr th {\n",
       "        vertical-align: top;\n",
       "    }\n",
       "\n",
       "    .dataframe thead th {\n",
       "        text-align: right;\n",
       "    }\n",
       "</style>\n",
       "<table border=\"1\" class=\"dataframe\">\n",
       "  <thead>\n",
       "    <tr style=\"text-align: right;\">\n",
       "      <th></th>\n",
       "      <th>person_home_ownership</th>\n",
       "      <th>loan_intent</th>\n",
       "      <th>loan_grade</th>\n",
       "      <th>cb_person_default_on_file</th>\n",
       "    </tr>\n",
       "  </thead>\n",
       "  <tbody>\n",
       "    <tr>\n",
       "      <th>count</th>\n",
       "      <td>31686</td>\n",
       "      <td>31686</td>\n",
       "      <td>31686</td>\n",
       "      <td>31686</td>\n",
       "    </tr>\n",
       "    <tr>\n",
       "      <th>unique</th>\n",
       "      <td>4</td>\n",
       "      <td>6</td>\n",
       "      <td>7</td>\n",
       "      <td>2</td>\n",
       "    </tr>\n",
       "    <tr>\n",
       "      <th>top</th>\n",
       "      <td>RENT</td>\n",
       "      <td>EDUCATION</td>\n",
       "      <td>A</td>\n",
       "      <td>N</td>\n",
       "    </tr>\n",
       "    <tr>\n",
       "      <th>freq</th>\n",
       "      <td>16076</td>\n",
       "      <td>6290</td>\n",
       "      <td>10371</td>\n",
       "      <td>26057</td>\n",
       "    </tr>\n",
       "  </tbody>\n",
       "</table>\n",
       "</div>"
      ],
      "text/plain": [
       "       person_home_ownership loan_intent loan_grade cb_person_default_on_file\n",
       "count                  31686       31686      31686                     31686\n",
       "unique                     4           6          7                         2\n",
       "top                     RENT   EDUCATION          A                         N\n",
       "freq                   16076        6290      10371                     26057"
      ]
     },
     "execution_count": 11,
     "metadata": {},
     "output_type": "execute_result"
    }
   ],
   "source": [
    "df.describe(include='object')"
   ]
  },
  {
   "cell_type": "markdown",
   "id": "993133f7",
   "metadata": {},
   "source": [
    "### Observation - As checked there is some outliers present in the person_income and loan_amnt column"
   ]
  },
  {
   "cell_type": "markdown",
   "id": "0db010a7",
   "metadata": {},
   "source": [
    "### Outlier Treatment"
   ]
  },
  {
   "cell_type": "code",
   "execution_count": 12,
   "id": "f072049a",
   "metadata": {},
   "outputs": [
    {
     "data": {
      "image/png": "[encoded data removed]",
      "text/plain": [
       "<Figure size 432x288 with 1 Axes>"
      ]
     },
     "metadata": {
      "needs_background": "light"
     },
     "output_type": "display_data"
    },
    {
     "data": {
      "image/png": "[encoded data removed]",
      "text/plain": [
       "<Figure size 432x288 with 1 Axes>"
      ]
     },
     "metadata": {
      "needs_background": "light"
     },
     "output_type": "display_data"
    }
   ],
   "source": [
    "plt.boxplot(df['person_income'])\n",
    "plt.show()\n",
    "\n",
    "def outliers(df, col):\n",
    "    q1 = df[col].quantile(0.25)\n",
    "    q3 = df[col].quantile(0.75)\n",
    "    iqr = q3 - q1\n",
    "    lb = q1 - (1.5*iqr)\n",
    "    ub = q3 + (1.5*iqr)\n",
    "    \n",
    "    for x in df[col]:\n",
    "        if x < lb or x > ub:\n",
    "            df[col] = df[col].replace(x, np.median(df[col]))\n",
    "        \n",
    "\n",
    "outliers(df, \"person_income\")        \n",
    "plt.boxplot(df[\"person_income\"])\n",
    "plt.show()"
   ]
  },
  {
   "cell_type": "code",
   "execution_count": 13,
   "id": "676e57ea",
   "metadata": {},
   "outputs": [
    {
     "data": {
      "image/png": "[encoded data removed]",
      "text/plain": [
       "<Figure size 432x288 with 1 Axes>"
      ]
     },
     "metadata": {
      "needs_background": "light"
     },
     "output_type": "display_data"
    },
    {
     "data": {
      "image/png": "[encoded data removed]",
      "text/plain": [
       "<Figure size 432x288 with 1 Axes>"
      ]
     },
     "metadata": {
      "needs_background": "light"
     },
     "output_type": "display_data"
    }
   ],
   "source": [
    "plt.boxplot(df['loan_amnt'])\n",
    "plt.show()\n",
    "\n",
    "def outliers(df, col):\n",
    "    q1 = df[col].quantile(0.25)\n",
    "    q3 = df[col].quantile(0.75)\n",
    "    iqr = q3 - q1\n",
    "    lb = q1 - (1.5*iqr)\n",
    "    ub = q3 + (1.5*iqr)\n",
    "    \n",
    "    for x in df[col]:\n",
    "        if x < lb or x > ub:\n",
    "            df[col] = df[col].replace(x, np.median(df[col]))\n",
    "        \n",
    "\n",
    "outliers(df, \"loan_amnt\")        \n",
    "plt.boxplot(df[\"loan_amnt\"])\n",
    "plt.show()"
   ]
  },
  {
   "cell_type": "markdown",
   "id": "43d111a3",
   "metadata": {},
   "source": [
    "### Step - 2: Document the below mentioned points properly:\n",
    "- Identify the input and output/target variables.\n",
    "- Identify the type of ML Task.\n",
    "- Identify the Evaluation Metric.\n",
    "- For regression task - Mean Absolute Error\n",
    "- For classification task - Accuracy"
   ]
  },
  {
   "cell_type": "markdown",
   "id": "6bf4cfdc",
   "metadata": {},
   "source": [
    "### 1. Identify the input and output/target variables."
   ]
  },
  {
   "cell_type": "code",
   "execution_count": 14,
   "id": "62d66748",
   "metadata": {},
   "outputs": [
    {
     "data": {
      "text/plain": [
       "Index(['person_age', 'person_income', 'person_home_ownership',\n",
       "       'person_emp_length', 'loan_intent', 'loan_grade', 'loan_amnt',\n",
       "       'loan_int_rate', 'loan_status', 'loan_percent_income',\n",
       "       'cb_person_default_on_file', 'cb_person_cred_hist_length'],\n",
       "      dtype='object')"
      ]
     },
     "execution_count": 14,
     "metadata": {},
     "output_type": "execute_result"
    }
   ],
   "source": [
    "df.columns"
   ]
  },
  {
   "cell_type": "code",
   "execution_count": 15,
   "id": "ae749b62",
   "metadata": {},
   "outputs": [],
   "source": [
    "# Identifying the inputs variables as (X) and target variable as (y)\n",
    "\n",
    "y = df['loan_status']\n",
    "\n",
    "X = df.drop('loan_status', axis = 'columns')"
   ]
  },
  {
   "cell_type": "code",
   "execution_count": 16,
   "id": "791054f5",
   "metadata": {},
   "outputs": [
    {
     "data": {
      "text/html": [
       "<div>\n",
       "<style scoped>\n",
       "    .dataframe tbody tr th:only-of-type {\n",
       "        vertical-align: middle;\n",
       "    }\n",
       "\n",
       "    .dataframe tbody tr th {\n",
       "        vertical-align: top;\n",
       "    }\n",
       "\n",
       "    .dataframe thead th {\n",
       "        text-align: right;\n",
       "    }\n",
       "</style>\n",
       "<table border=\"1\" class=\"dataframe\">\n",
       "  <thead>\n",
       "    <tr style=\"text-align: right;\">\n",
       "      <th></th>\n",
       "      <th>person_age</th>\n",
       "      <th>person_income</th>\n",
       "      <th>person_home_ownership</th>\n",
       "      <th>person_emp_length</th>\n",
       "      <th>loan_intent</th>\n",
       "      <th>loan_grade</th>\n",
       "      <th>loan_amnt</th>\n",
       "      <th>loan_int_rate</th>\n",
       "      <th>loan_percent_income</th>\n",
       "      <th>cb_person_default_on_file</th>\n",
       "      <th>cb_person_cred_hist_length</th>\n",
       "    </tr>\n",
       "  </thead>\n",
       "  <tbody>\n",
       "    <tr>\n",
       "      <th>0</th>\n",
       "      <td>22</td>\n",
       "      <td>59000</td>\n",
       "      <td>RENT</td>\n",
       "      <td>123.0</td>\n",
       "      <td>PERSONAL</td>\n",
       "      <td>D</td>\n",
       "      <td>8000</td>\n",
       "      <td>16.02</td>\n",
       "      <td>0.59</td>\n",
       "      <td>Y</td>\n",
       "      <td>3</td>\n",
       "    </tr>\n",
       "    <tr>\n",
       "      <th>1</th>\n",
       "      <td>21</td>\n",
       "      <td>9600</td>\n",
       "      <td>OWN</td>\n",
       "      <td>5.0</td>\n",
       "      <td>EDUCATION</td>\n",
       "      <td>B</td>\n",
       "      <td>1000</td>\n",
       "      <td>11.14</td>\n",
       "      <td>0.10</td>\n",
       "      <td>N</td>\n",
       "      <td>2</td>\n",
       "    </tr>\n",
       "    <tr>\n",
       "      <th>2</th>\n",
       "      <td>25</td>\n",
       "      <td>9600</td>\n",
       "      <td>MORTGAGE</td>\n",
       "      <td>1.0</td>\n",
       "      <td>MEDICAL</td>\n",
       "      <td>C</td>\n",
       "      <td>5500</td>\n",
       "      <td>12.87</td>\n",
       "      <td>0.57</td>\n",
       "      <td>N</td>\n",
       "      <td>3</td>\n",
       "    </tr>\n",
       "    <tr>\n",
       "      <th>3</th>\n",
       "      <td>23</td>\n",
       "      <td>65500</td>\n",
       "      <td>RENT</td>\n",
       "      <td>4.0</td>\n",
       "      <td>MEDICAL</td>\n",
       "      <td>C</td>\n",
       "      <td>8000</td>\n",
       "      <td>15.23</td>\n",
       "      <td>0.53</td>\n",
       "      <td>N</td>\n",
       "      <td>2</td>\n",
       "    </tr>\n",
       "    <tr>\n",
       "      <th>4</th>\n",
       "      <td>24</td>\n",
       "      <td>54400</td>\n",
       "      <td>RENT</td>\n",
       "      <td>8.0</td>\n",
       "      <td>MEDICAL</td>\n",
       "      <td>C</td>\n",
       "      <td>8000</td>\n",
       "      <td>14.27</td>\n",
       "      <td>0.55</td>\n",
       "      <td>Y</td>\n",
       "      <td>4</td>\n",
       "    </tr>\n",
       "  </tbody>\n",
       "</table>\n",
       "</div>"
      ],
      "text/plain": [
       "   person_age  person_income person_home_ownership  person_emp_length  \\\n",
       "0          22          59000                  RENT              123.0   \n",
       "1          21           9600                   OWN                5.0   \n",
       "2          25           9600              MORTGAGE                1.0   \n",
       "3          23          65500                  RENT                4.0   \n",
       "4          24          54400                  RENT                8.0   \n",
       "\n",
       "  loan_intent loan_grade  loan_amnt  loan_int_rate  loan_percent_income  \\\n",
       "0    PERSONAL          D       8000          16.02                 0.59   \n",
       "1   EDUCATION          B       1000          11.14                 0.10   \n",
       "2     MEDICAL          C       5500          12.87                 0.57   \n",
       "3     MEDICAL          C       8000          15.23                 0.53   \n",
       "4     MEDICAL          C       8000          14.27                 0.55   \n",
       "\n",
       "  cb_person_default_on_file  cb_person_cred_hist_length  \n",
       "0                         Y                           3  \n",
       "1                         N                           2  \n",
       "2                         N                           3  \n",
       "3                         N                           2  \n",
       "4                         Y                           4  "
      ]
     },
     "execution_count": 16,
     "metadata": {},
     "output_type": "execute_result"
    }
   ],
   "source": [
    "X.head()"
   ]
  },
  {
   "cell_type": "code",
   "execution_count": 17,
   "id": "23391774",
   "metadata": {},
   "outputs": [
    {
     "data": {
      "text/plain": [
       "0    1\n",
       "1    0\n",
       "2    1\n",
       "3    1\n",
       "4    1\n",
       "Name: loan_status, dtype: int64"
      ]
     },
     "execution_count": 17,
     "metadata": {},
     "output_type": "execute_result"
    }
   ],
   "source": [
    "y.head()"
   ]
  },
  {
   "cell_type": "markdown",
   "id": "52410727",
   "metadata": {},
   "source": [
    "### Observation - As per the dataset our task is to find (default or non default) here's the column have information about defaulter which is loan status so this is our target variable and rest of the columns are input variables "
   ]
  },
  {
   "cell_type": "markdown",
   "id": "9de8f472",
   "metadata": {},
   "source": [
    "### 2. Identify the type of ML Task."
   ]
  },
  {
   "cell_type": "code",
   "execution_count": 18,
   "id": "5538199e",
   "metadata": {},
   "outputs": [
    {
     "data": {
      "text/plain": [
       "0    24860\n",
       "1     6826\n",
       "Name: loan_status, dtype: int64"
      ]
     },
     "execution_count": 18,
     "metadata": {},
     "output_type": "execute_result"
    }
   ],
   "source": [
    "df['loan_status'].value_counts()"
   ]
  },
  {
   "cell_type": "markdown",
   "id": "5fae61df",
   "metadata": {},
   "source": [
    "### Observation - As per the dataset the target variable is loan status which in binary classification (i.e - 0 non default or 1 default) so here our ML task is classification. "
   ]
  },
  {
   "cell_type": "markdown",
   "id": "4856a89a",
   "metadata": {},
   "source": [
    "### 3. Identify the Evaluation Metric."
   ]
  },
  {
   "cell_type": "code",
   "execution_count": 19,
   "id": "eae0964a",
   "metadata": {},
   "outputs": [
    {
     "data": {
      "text/plain": [
       "0    24860\n",
       "1     6826\n",
       "Name: loan_status, dtype: int64"
      ]
     },
     "execution_count": 19,
     "metadata": {},
     "output_type": "execute_result"
    }
   ],
   "source": [
    "df['loan_status'].value_counts()"
   ]
  },
  {
   "cell_type": "markdown",
   "id": "f2ccce4b",
   "metadata": {},
   "source": [
    "### Observation - As per the observation our ML task is classification so here Evaluation Metric is Accuracy"
   ]
  },
  {
   "cell_type": "markdown",
   "id": "7cd0782f",
   "metadata": {},
   "source": [
    "## Step - 3: Split the dataset into Training and Testing (recommended 75:25 split).\n"
   ]
  },
  {
   "cell_type": "code",
   "execution_count": 20,
   "id": "922204e2",
   "metadata": {},
   "outputs": [],
   "source": [
    "# split into train and test\n",
    "\n",
    "from sklearn.model_selection import train_test_split\n",
    "\n",
    "X_train, X_test, y_train, y_test = train_test_split(X, y, train_size = 0.75, random_state = 0) "
   ]
  },
  {
   "cell_type": "code",
   "execution_count": 21,
   "id": "925020a2",
   "metadata": {},
   "outputs": [
    {
     "name": "stdout",
     "output_type": "stream",
     "text": [
      "(23764, 11) (23764,)\n",
      "(7922, 11) (7922,)\n"
     ]
    }
   ],
   "source": [
    "print(X_train.shape, y_train.shape)\n",
    "\n",
    "print(X_test.shape, y_test.shape)"
   ]
  },
  {
   "cell_type": "markdown",
   "id": "82154c11",
   "metadata": {},
   "source": [
    "## Step - 4: Data preparation on train data:\n",
    "- For Numerical Variables - Standardization or Normalization (Fit and Transform)\n",
    "- For Categorical - LabelEncoding or OneHotEncoding (Choose wisely)"
   ]
  },
  {
   "cell_type": "markdown",
   "id": "9904a2a8",
   "metadata": {},
   "source": [
    "### Separating Categorical and Numerical Columns of Training set:"
   ]
  },
  {
   "cell_type": "code",
   "execution_count": 22,
   "id": "fce865d7",
   "metadata": {},
   "outputs": [
    {
     "data": {
      "text/plain": [
       "person_age                      int64\n",
       "person_income                   int64\n",
       "person_home_ownership          object\n",
       "person_emp_length             float64\n",
       "loan_intent                    object\n",
       "loan_grade                     object\n",
       "loan_amnt                       int64\n",
       "loan_int_rate                 float64\n",
       "loan_percent_income           float64\n",
       "cb_person_default_on_file      object\n",
       "cb_person_cred_hist_length      int64\n",
       "dtype: object"
      ]
     },
     "execution_count": 22,
     "metadata": {},
     "output_type": "execute_result"
    }
   ],
   "source": [
    "X_train.dtypes"
   ]
  },
  {
   "cell_type": "code",
   "execution_count": 23,
   "id": "39cd32f2",
   "metadata": {},
   "outputs": [
    {
     "data": {
      "text/html": [
       "<div>\n",
       "<style scoped>\n",
       "    .dataframe tbody tr th:only-of-type {\n",
       "        vertical-align: middle;\n",
       "    }\n",
       "\n",
       "    .dataframe tbody tr th {\n",
       "        vertical-align: top;\n",
       "    }\n",
       "\n",
       "    .dataframe thead th {\n",
       "        text-align: right;\n",
       "    }\n",
       "</style>\n",
       "<table border=\"1\" class=\"dataframe\">\n",
       "  <thead>\n",
       "    <tr style=\"text-align: right;\">\n",
       "      <th></th>\n",
       "      <th>person_age</th>\n",
       "      <th>person_income</th>\n",
       "      <th>person_emp_length</th>\n",
       "      <th>loan_amnt</th>\n",
       "      <th>loan_int_rate</th>\n",
       "      <th>loan_percent_income</th>\n",
       "      <th>cb_person_cred_hist_length</th>\n",
       "    </tr>\n",
       "  </thead>\n",
       "  <tbody>\n",
       "    <tr>\n",
       "      <th>3313</th>\n",
       "      <td>25</td>\n",
       "      <td>36000</td>\n",
       "      <td>5.0</td>\n",
       "      <td>6000</td>\n",
       "      <td>7.88</td>\n",
       "      <td>0.17</td>\n",
       "      <td>4</td>\n",
       "    </tr>\n",
       "    <tr>\n",
       "      <th>25851</th>\n",
       "      <td>30</td>\n",
       "      <td>91000</td>\n",
       "      <td>9.0</td>\n",
       "      <td>18500</td>\n",
       "      <td>12.42</td>\n",
       "      <td>0.20</td>\n",
       "      <td>7</td>\n",
       "    </tr>\n",
       "    <tr>\n",
       "      <th>18693</th>\n",
       "      <td>30</td>\n",
       "      <td>54000</td>\n",
       "      <td>2.0</td>\n",
       "      <td>16200</td>\n",
       "      <td>15.57</td>\n",
       "      <td>0.30</td>\n",
       "      <td>10</td>\n",
       "    </tr>\n",
       "    <tr>\n",
       "      <th>21899</th>\n",
       "      <td>29</td>\n",
       "      <td>50004</td>\n",
       "      <td>1.0</td>\n",
       "      <td>1500</td>\n",
       "      <td>13.11</td>\n",
       "      <td>0.03</td>\n",
       "      <td>6</td>\n",
       "    </tr>\n",
       "    <tr>\n",
       "      <th>9452</th>\n",
       "      <td>26</td>\n",
       "      <td>82000</td>\n",
       "      <td>5.0</td>\n",
       "      <td>8000</td>\n",
       "      <td>10.99</td>\n",
       "      <td>0.10</td>\n",
       "      <td>3</td>\n",
       "    </tr>\n",
       "  </tbody>\n",
       "</table>\n",
       "</div>"
      ],
      "text/plain": [
       "       person_age  person_income  person_emp_length  loan_amnt  loan_int_rate  \\\n",
       "3313           25          36000                5.0       6000           7.88   \n",
       "25851          30          91000                9.0      18500          12.42   \n",
       "18693          30          54000                2.0      16200          15.57   \n",
       "21899          29          50004                1.0       1500          13.11   \n",
       "9452           26          82000                5.0       8000          10.99   \n",
       "\n",
       "       loan_percent_income  cb_person_cred_hist_length  \n",
       "3313                  0.17                           4  \n",
       "25851                 0.20                           7  \n",
       "18693                 0.30                          10  \n",
       "21899                 0.03                           6  \n",
       "9452                  0.10                           3  "
      ]
     },
     "execution_count": 23,
     "metadata": {},
     "output_type": "execute_result"
    }
   ],
   "source": [
    "X_train_num = X_train.select_dtypes(include = ['int64','float64'])\n",
    "\n",
    "X_train_num.head()"
   ]
  },
  {
   "cell_type": "code",
   "execution_count": 24,
   "id": "165940ec",
   "metadata": {},
   "outputs": [
    {
     "data": {
      "text/html": [
       "<div>\n",
       "<style scoped>\n",
       "    .dataframe tbody tr th:only-of-type {\n",
       "        vertical-align: middle;\n",
       "    }\n",
       "\n",
       "    .dataframe tbody tr th {\n",
       "        vertical-align: top;\n",
       "    }\n",
       "\n",
       "    .dataframe thead th {\n",
       "        text-align: right;\n",
       "    }\n",
       "</style>\n",
       "<table border=\"1\" class=\"dataframe\">\n",
       "  <thead>\n",
       "    <tr style=\"text-align: right;\">\n",
       "      <th></th>\n",
       "      <th>person_age</th>\n",
       "      <th>person_income</th>\n",
       "      <th>person_emp_length</th>\n",
       "      <th>loan_amnt</th>\n",
       "      <th>loan_int_rate</th>\n",
       "      <th>loan_percent_income</th>\n",
       "      <th>cb_person_cred_hist_length</th>\n",
       "    </tr>\n",
       "  </thead>\n",
       "  <tbody>\n",
       "    <tr>\n",
       "      <th>3313</th>\n",
       "      <td>-0.422571</td>\n",
       "      <td>-0.857736</td>\n",
       "      <td>0.051676</td>\n",
       "      <td>-0.552547</td>\n",
       "      <td>-1.023082</td>\n",
       "      <td>0.001344</td>\n",
       "      <td>-0.441602</td>\n",
       "    </tr>\n",
       "    <tr>\n",
       "      <th>25851</th>\n",
       "      <td>0.354311</td>\n",
       "      <td>1.201878</td>\n",
       "      <td>1.007713</td>\n",
       "      <td>1.993916</td>\n",
       "      <td>0.452146</td>\n",
       "      <td>0.283931</td>\n",
       "      <td>0.293751</td>\n",
       "    </tr>\n",
       "    <tr>\n",
       "      <th>18693</th>\n",
       "      <td>0.354311</td>\n",
       "      <td>-0.183680</td>\n",
       "      <td>-0.665352</td>\n",
       "      <td>1.525367</td>\n",
       "      <td>1.475708</td>\n",
       "      <td>1.225887</td>\n",
       "      <td>1.029105</td>\n",
       "    </tr>\n",
       "    <tr>\n",
       "      <th>21899</th>\n",
       "      <td>0.198935</td>\n",
       "      <td>-0.333321</td>\n",
       "      <td>-0.904361</td>\n",
       "      <td>-1.469274</td>\n",
       "      <td>0.676355</td>\n",
       "      <td>-1.317395</td>\n",
       "      <td>0.048634</td>\n",
       "    </tr>\n",
       "    <tr>\n",
       "      <th>9452</th>\n",
       "      <td>-0.267194</td>\n",
       "      <td>0.864850</td>\n",
       "      <td>0.051676</td>\n",
       "      <td>-0.145113</td>\n",
       "      <td>-0.012518</td>\n",
       "      <td>-0.658026</td>\n",
       "      <td>-0.686720</td>\n",
       "    </tr>\n",
       "  </tbody>\n",
       "</table>\n",
       "</div>"
      ],
      "text/plain": [
       "       person_age  person_income  person_emp_length  loan_amnt  loan_int_rate  \\\n",
       "3313    -0.422571      -0.857736           0.051676  -0.552547      -1.023082   \n",
       "25851    0.354311       1.201878           1.007713   1.993916       0.452146   \n",
       "18693    0.354311      -0.183680          -0.665352   1.525367       1.475708   \n",
       "21899    0.198935      -0.333321          -0.904361  -1.469274       0.676355   \n",
       "9452    -0.267194       0.864850           0.051676  -0.145113      -0.012518   \n",
       "\n",
       "       loan_percent_income  cb_person_cred_hist_length  \n",
       "3313              0.001344                   -0.441602  \n",
       "25851             0.283931                    0.293751  \n",
       "18693             1.225887                    1.029105  \n",
       "21899            -1.317395                    0.048634  \n",
       "9452             -0.658026                   -0.686720  "
      ]
     },
     "execution_count": 24,
     "metadata": {},
     "output_type": "execute_result"
    }
   ],
   "source": [
    "# scaling the numerical features\n",
    "\n",
    "from sklearn.preprocessing import StandardScaler\n",
    "\n",
    "scaler = StandardScaler()\n",
    "\n",
    "X_train_num_rescaled = pd.DataFrame(scaler.fit_transform(X_train_num), \n",
    "                                    columns = X_train_num.columns, \n",
    "                                    index = X_train_num.index)\n",
    "\n",
    "X_train_num_rescaled.head()"
   ]
  },
  {
   "cell_type": "code",
   "execution_count": 25,
   "id": "cc7b7c3a",
   "metadata": {},
   "outputs": [
    {
     "data": {
      "text/html": [
       "<div>\n",
       "<style scoped>\n",
       "    .dataframe tbody tr th:only-of-type {\n",
       "        vertical-align: middle;\n",
       "    }\n",
       "\n",
       "    .dataframe tbody tr th {\n",
       "        vertical-align: top;\n",
       "    }\n",
       "\n",
       "    .dataframe thead th {\n",
       "        text-align: right;\n",
       "    }\n",
       "</style>\n",
       "<table border=\"1\" class=\"dataframe\">\n",
       "  <thead>\n",
       "    <tr style=\"text-align: right;\">\n",
       "      <th></th>\n",
       "      <th>person_home_ownership</th>\n",
       "      <th>loan_intent</th>\n",
       "      <th>loan_grade</th>\n",
       "      <th>cb_person_default_on_file</th>\n",
       "    </tr>\n",
       "  </thead>\n",
       "  <tbody>\n",
       "    <tr>\n",
       "      <th>3313</th>\n",
       "      <td>MORTGAGE</td>\n",
       "      <td>PERSONAL</td>\n",
       "      <td>A</td>\n",
       "      <td>N</td>\n",
       "    </tr>\n",
       "    <tr>\n",
       "      <th>25851</th>\n",
       "      <td>MORTGAGE</td>\n",
       "      <td>DEBTCONSOLIDATION</td>\n",
       "      <td>B</td>\n",
       "      <td>N</td>\n",
       "    </tr>\n",
       "    <tr>\n",
       "      <th>18693</th>\n",
       "      <td>RENT</td>\n",
       "      <td>DEBTCONSOLIDATION</td>\n",
       "      <td>D</td>\n",
       "      <td>N</td>\n",
       "    </tr>\n",
       "    <tr>\n",
       "      <th>21899</th>\n",
       "      <td>MORTGAGE</td>\n",
       "      <td>HOMEIMPROVEMENT</td>\n",
       "      <td>C</td>\n",
       "      <td>Y</td>\n",
       "    </tr>\n",
       "    <tr>\n",
       "      <th>9452</th>\n",
       "      <td>RENT</td>\n",
       "      <td>VENTURE</td>\n",
       "      <td>B</td>\n",
       "      <td>N</td>\n",
       "    </tr>\n",
       "  </tbody>\n",
       "</table>\n",
       "</div>"
      ],
      "text/plain": [
       "      person_home_ownership        loan_intent loan_grade  \\\n",
       "3313               MORTGAGE           PERSONAL          A   \n",
       "25851              MORTGAGE  DEBTCONSOLIDATION          B   \n",
       "18693                  RENT  DEBTCONSOLIDATION          D   \n",
       "21899              MORTGAGE    HOMEIMPROVEMENT          C   \n",
       "9452                   RENT            VENTURE          B   \n",
       "\n",
       "      cb_person_default_on_file  \n",
       "3313                          N  \n",
       "25851                         N  \n",
       "18693                         N  \n",
       "21899                         Y  \n",
       "9452                          N  "
      ]
     },
     "execution_count": 25,
     "metadata": {},
     "output_type": "execute_result"
    }
   ],
   "source": [
    "X_train_cat = X_train.select_dtypes(include = ['object'])\n",
    "\n",
    "X_train_cat.head()"
   ]
  },
  {
   "cell_type": "code",
   "execution_count": 26,
   "id": "2c261346",
   "metadata": {},
   "outputs": [],
   "source": [
    "# labelencoding to the Categorical Features\n",
    "from sklearn.preprocessing import LabelEncoder\n",
    "\n",
    "le = LabelEncoder()\n",
    "\n",
    "X_train_cat['person_home_ownership'] = le.fit_transform(X_train['person_home_ownership'])\n",
    "X_train_cat['loan_intent'] = le.fit_transform(X_train['loan_intent'])\n",
    "X_train_cat['loan_grade'] = le.fit_transform(X_train['loan_grade'])\n",
    "X_train_cat['cb_person_default_on_file'] = le.fit_transform(X_train['cb_person_default_on_file'])"
   ]
  },
  {
   "cell_type": "code",
   "execution_count": 27,
   "id": "9d2d62ed",
   "metadata": {},
   "outputs": [
    {
     "data": {
      "text/html": [
       "<div>\n",
       "<style scoped>\n",
       "    .dataframe tbody tr th:only-of-type {\n",
       "        vertical-align: middle;\n",
       "    }\n",
       "\n",
       "    .dataframe tbody tr th {\n",
       "        vertical-align: top;\n",
       "    }\n",
       "\n",
       "    .dataframe thead th {\n",
       "        text-align: right;\n",
       "    }\n",
       "</style>\n",
       "<table border=\"1\" class=\"dataframe\">\n",
       "  <thead>\n",
       "    <tr style=\"text-align: right;\">\n",
       "      <th></th>\n",
       "      <th>person_home_ownership</th>\n",
       "      <th>loan_intent</th>\n",
       "      <th>loan_grade</th>\n",
       "      <th>cb_person_default_on_file</th>\n",
       "    </tr>\n",
       "  </thead>\n",
       "  <tbody>\n",
       "    <tr>\n",
       "      <th>3313</th>\n",
       "      <td>0</td>\n",
       "      <td>4</td>\n",
       "      <td>0</td>\n",
       "      <td>0</td>\n",
       "    </tr>\n",
       "    <tr>\n",
       "      <th>25851</th>\n",
       "      <td>0</td>\n",
       "      <td>0</td>\n",
       "      <td>1</td>\n",
       "      <td>0</td>\n",
       "    </tr>\n",
       "    <tr>\n",
       "      <th>18693</th>\n",
       "      <td>3</td>\n",
       "      <td>0</td>\n",
       "      <td>3</td>\n",
       "      <td>0</td>\n",
       "    </tr>\n",
       "    <tr>\n",
       "      <th>21899</th>\n",
       "      <td>0</td>\n",
       "      <td>2</td>\n",
       "      <td>2</td>\n",
       "      <td>1</td>\n",
       "    </tr>\n",
       "    <tr>\n",
       "      <th>9452</th>\n",
       "      <td>3</td>\n",
       "      <td>5</td>\n",
       "      <td>1</td>\n",
       "      <td>0</td>\n",
       "    </tr>\n",
       "  </tbody>\n",
       "</table>\n",
       "</div>"
      ],
      "text/plain": [
       "       person_home_ownership  loan_intent  loan_grade  \\\n",
       "3313                       0            4           0   \n",
       "25851                      0            0           1   \n",
       "18693                      3            0           3   \n",
       "21899                      0            2           2   \n",
       "9452                       3            5           1   \n",
       "\n",
       "       cb_person_default_on_file  \n",
       "3313                           0  \n",
       "25851                          0  \n",
       "18693                          0  \n",
       "21899                          1  \n",
       "9452                           0  "
      ]
     },
     "execution_count": 27,
     "metadata": {},
     "output_type": "execute_result"
    }
   ],
   "source": [
    "X_train_cat.head()"
   ]
  },
  {
   "cell_type": "code",
   "execution_count": 28,
   "id": "8e3d7c6f",
   "metadata": {},
   "outputs": [
    {
     "data": {
      "text/html": [
       "<div>\n",
       "<style scoped>\n",
       "    .dataframe tbody tr th:only-of-type {\n",
       "        vertical-align: middle;\n",
       "    }\n",
       "\n",
       "    .dataframe tbody tr th {\n",
       "        vertical-align: top;\n",
       "    }\n",
       "\n",
       "    .dataframe thead th {\n",
       "        text-align: right;\n",
       "    }\n",
       "</style>\n",
       "<table border=\"1\" class=\"dataframe\">\n",
       "  <thead>\n",
       "    <tr style=\"text-align: right;\">\n",
       "      <th></th>\n",
       "      <th>person_age</th>\n",
       "      <th>person_income</th>\n",
       "      <th>person_emp_length</th>\n",
       "      <th>loan_amnt</th>\n",
       "      <th>loan_int_rate</th>\n",
       "      <th>loan_percent_income</th>\n",
       "      <th>cb_person_cred_hist_length</th>\n",
       "      <th>person_home_ownership</th>\n",
       "      <th>loan_intent</th>\n",
       "      <th>loan_grade</th>\n",
       "      <th>cb_person_default_on_file</th>\n",
       "    </tr>\n",
       "  </thead>\n",
       "  <tbody>\n",
       "    <tr>\n",
       "      <th>3313</th>\n",
       "      <td>-0.422571</td>\n",
       "      <td>-0.857736</td>\n",
       "      <td>0.051676</td>\n",
       "      <td>-0.552547</td>\n",
       "      <td>-1.023082</td>\n",
       "      <td>0.001344</td>\n",
       "      <td>-0.441602</td>\n",
       "      <td>0</td>\n",
       "      <td>4</td>\n",
       "      <td>0</td>\n",
       "      <td>0</td>\n",
       "    </tr>\n",
       "    <tr>\n",
       "      <th>25851</th>\n",
       "      <td>0.354311</td>\n",
       "      <td>1.201878</td>\n",
       "      <td>1.007713</td>\n",
       "      <td>1.993916</td>\n",
       "      <td>0.452146</td>\n",
       "      <td>0.283931</td>\n",
       "      <td>0.293751</td>\n",
       "      <td>0</td>\n",
       "      <td>0</td>\n",
       "      <td>1</td>\n",
       "      <td>0</td>\n",
       "    </tr>\n",
       "    <tr>\n",
       "      <th>18693</th>\n",
       "      <td>0.354311</td>\n",
       "      <td>-0.183680</td>\n",
       "      <td>-0.665352</td>\n",
       "      <td>1.525367</td>\n",
       "      <td>1.475708</td>\n",
       "      <td>1.225887</td>\n",
       "      <td>1.029105</td>\n",
       "      <td>3</td>\n",
       "      <td>0</td>\n",
       "      <td>3</td>\n",
       "      <td>0</td>\n",
       "    </tr>\n",
       "    <tr>\n",
       "      <th>21899</th>\n",
       "      <td>0.198935</td>\n",
       "      <td>-0.333321</td>\n",
       "      <td>-0.904361</td>\n",
       "      <td>-1.469274</td>\n",
       "      <td>0.676355</td>\n",
       "      <td>-1.317395</td>\n",
       "      <td>0.048634</td>\n",
       "      <td>0</td>\n",
       "      <td>2</td>\n",
       "      <td>2</td>\n",
       "      <td>1</td>\n",
       "    </tr>\n",
       "    <tr>\n",
       "      <th>9452</th>\n",
       "      <td>-0.267194</td>\n",
       "      <td>0.864850</td>\n",
       "      <td>0.051676</td>\n",
       "      <td>-0.145113</td>\n",
       "      <td>-0.012518</td>\n",
       "      <td>-0.658026</td>\n",
       "      <td>-0.686720</td>\n",
       "      <td>3</td>\n",
       "      <td>5</td>\n",
       "      <td>1</td>\n",
       "      <td>0</td>\n",
       "    </tr>\n",
       "  </tbody>\n",
       "</table>\n",
       "</div>"
      ],
      "text/plain": [
       "       person_age  person_income  person_emp_length  loan_amnt  loan_int_rate  \\\n",
       "3313    -0.422571      -0.857736           0.051676  -0.552547      -1.023082   \n",
       "25851    0.354311       1.201878           1.007713   1.993916       0.452146   \n",
       "18693    0.354311      -0.183680          -0.665352   1.525367       1.475708   \n",
       "21899    0.198935      -0.333321          -0.904361  -1.469274       0.676355   \n",
       "9452    -0.267194       0.864850           0.051676  -0.145113      -0.012518   \n",
       "\n",
       "       loan_percent_income  cb_person_cred_hist_length  person_home_ownership  \\\n",
       "3313              0.001344                   -0.441602                      0   \n",
       "25851             0.283931                    0.293751                      0   \n",
       "18693             1.225887                    1.029105                      3   \n",
       "21899            -1.317395                    0.048634                      0   \n",
       "9452             -0.658026                   -0.686720                      3   \n",
       "\n",
       "       loan_intent  loan_grade  cb_person_default_on_file  \n",
       "3313             4           0                          0  \n",
       "25851            0           1                          0  \n",
       "18693            0           3                          0  \n",
       "21899            2           2                          1  \n",
       "9452             5           1                          0  "
      ]
     },
     "execution_count": 28,
     "metadata": {},
     "output_type": "execute_result"
    }
   ],
   "source": [
    "X_train_transformed = pd.concat([X_train_num_rescaled, X_train_cat], axis = 1)\n",
    "\n",
    "X_train_transformed.head()"
   ]
  },
  {
   "cell_type": "markdown",
   "id": "b15e4fd7",
   "metadata": {},
   "source": [
    "## Step - 5: Data preparation on train data:\n",
    "\n",
    "- For Numerical Variables - Standardization (Transform)\n",
    "- For Categorical - LabelEncoding or OneHotEncoding (Choose wisely)\n"
   ]
  },
  {
   "cell_type": "code",
   "execution_count": 29,
   "id": "070a22d9",
   "metadata": {},
   "outputs": [
    {
     "data": {
      "text/html": [
       "<div>\n",
       "<style scoped>\n",
       "    .dataframe tbody tr th:only-of-type {\n",
       "        vertical-align: middle;\n",
       "    }\n",
       "\n",
       "    .dataframe tbody tr th {\n",
       "        vertical-align: top;\n",
       "    }\n",
       "\n",
       "    .dataframe thead th {\n",
       "        text-align: right;\n",
       "    }\n",
       "</style>\n",
       "<table border=\"1\" class=\"dataframe\">\n",
       "  <thead>\n",
       "    <tr style=\"text-align: right;\">\n",
       "      <th></th>\n",
       "      <th>person_age</th>\n",
       "      <th>person_income</th>\n",
       "      <th>person_emp_length</th>\n",
       "      <th>loan_amnt</th>\n",
       "      <th>loan_int_rate</th>\n",
       "      <th>loan_percent_income</th>\n",
       "      <th>cb_person_cred_hist_length</th>\n",
       "    </tr>\n",
       "  </thead>\n",
       "  <tbody>\n",
       "    <tr>\n",
       "      <th>26073</th>\n",
       "      <td>35</td>\n",
       "      <td>83234</td>\n",
       "      <td>19.0</td>\n",
       "      <td>10000</td>\n",
       "      <td>18.250000</td>\n",
       "      <td>0.12</td>\n",
       "      <td>9</td>\n",
       "    </tr>\n",
       "    <tr>\n",
       "      <th>22</th>\n",
       "      <td>22</td>\n",
       "      <td>65000</td>\n",
       "      <td>4.0</td>\n",
       "      <td>8000</td>\n",
       "      <td>17.580000</td>\n",
       "      <td>0.52</td>\n",
       "      <td>4</td>\n",
       "    </tr>\n",
       "    <tr>\n",
       "      <th>23440</th>\n",
       "      <td>29</td>\n",
       "      <td>62500</td>\n",
       "      <td>13.0</td>\n",
       "      <td>5000</td>\n",
       "      <td>11.360000</td>\n",
       "      <td>0.08</td>\n",
       "      <td>7</td>\n",
       "    </tr>\n",
       "    <tr>\n",
       "      <th>32024</th>\n",
       "      <td>38</td>\n",
       "      <td>20004</td>\n",
       "      <td>2.0</td>\n",
       "      <td>6250</td>\n",
       "      <td>11.011695</td>\n",
       "      <td>0.31</td>\n",
       "      <td>15</td>\n",
       "    </tr>\n",
       "    <tr>\n",
       "      <th>908</th>\n",
       "      <td>22</td>\n",
       "      <td>54000</td>\n",
       "      <td>6.0</td>\n",
       "      <td>19000</td>\n",
       "      <td>11.011695</td>\n",
       "      <td>0.35</td>\n",
       "      <td>4</td>\n",
       "    </tr>\n",
       "  </tbody>\n",
       "</table>\n",
       "</div>"
      ],
      "text/plain": [
       "       person_age  person_income  person_emp_length  loan_amnt  loan_int_rate  \\\n",
       "26073          35          83234               19.0      10000      18.250000   \n",
       "22             22          65000                4.0       8000      17.580000   \n",
       "23440          29          62500               13.0       5000      11.360000   \n",
       "32024          38          20004                2.0       6250      11.011695   \n",
       "908            22          54000                6.0      19000      11.011695   \n",
       "\n",
       "       loan_percent_income  cb_person_cred_hist_length  \n",
       "26073                 0.12                           9  \n",
       "22                    0.52                           4  \n",
       "23440                 0.08                           7  \n",
       "32024                 0.31                          15  \n",
       "908                   0.35                           4  "
      ]
     },
     "execution_count": 29,
     "metadata": {},
     "output_type": "execute_result"
    }
   ],
   "source": [
    "X_test_num = X_test.select_dtypes(include = ['int64','float64'])\n",
    "\n",
    "X_test_num.head()"
   ]
  },
  {
   "cell_type": "code",
   "execution_count": 30,
   "id": "5dd3277a",
   "metadata": {},
   "outputs": [
    {
     "data": {
      "text/html": [
       "<div>\n",
       "<style scoped>\n",
       "    .dataframe tbody tr th:only-of-type {\n",
       "        vertical-align: middle;\n",
       "    }\n",
       "\n",
       "    .dataframe tbody tr th {\n",
       "        vertical-align: top;\n",
       "    }\n",
       "\n",
       "    .dataframe thead th {\n",
       "        text-align: right;\n",
       "    }\n",
       "</style>\n",
       "<table border=\"1\" class=\"dataframe\">\n",
       "  <thead>\n",
       "    <tr style=\"text-align: right;\">\n",
       "      <th></th>\n",
       "      <th>person_age</th>\n",
       "      <th>person_income</th>\n",
       "      <th>person_emp_length</th>\n",
       "      <th>loan_amnt</th>\n",
       "      <th>loan_int_rate</th>\n",
       "      <th>loan_percent_income</th>\n",
       "      <th>cb_person_cred_hist_length</th>\n",
       "    </tr>\n",
       "  </thead>\n",
       "  <tbody>\n",
       "    <tr>\n",
       "      <th>26073</th>\n",
       "      <td>1.131193</td>\n",
       "      <td>0.911061</td>\n",
       "      <td>3.397805</td>\n",
       "      <td>0.262321</td>\n",
       "      <td>2.346547</td>\n",
       "      <td>-0.469634</td>\n",
       "      <td>0.783987</td>\n",
       "    </tr>\n",
       "    <tr>\n",
       "      <th>22</th>\n",
       "      <td>-0.888700</td>\n",
       "      <td>0.228243</td>\n",
       "      <td>-0.187333</td>\n",
       "      <td>-0.145113</td>\n",
       "      <td>2.128837</td>\n",
       "      <td>3.298191</td>\n",
       "      <td>-0.441602</td>\n",
       "    </tr>\n",
       "    <tr>\n",
       "      <th>23440</th>\n",
       "      <td>0.198935</td>\n",
       "      <td>0.134624</td>\n",
       "      <td>1.963750</td>\n",
       "      <td>-0.756264</td>\n",
       "      <td>0.107710</td>\n",
       "      <td>-0.846417</td>\n",
       "      <td>0.293751</td>\n",
       "    </tr>\n",
       "    <tr>\n",
       "      <th>32024</th>\n",
       "      <td>1.597322</td>\n",
       "      <td>-1.456746</td>\n",
       "      <td>-0.665352</td>\n",
       "      <td>-0.501618</td>\n",
       "      <td>-0.005469</td>\n",
       "      <td>1.320083</td>\n",
       "      <td>2.254693</td>\n",
       "    </tr>\n",
       "    <tr>\n",
       "      <th>908</th>\n",
       "      <td>-0.888700</td>\n",
       "      <td>-0.183680</td>\n",
       "      <td>0.290685</td>\n",
       "      <td>2.095775</td>\n",
       "      <td>-0.005469</td>\n",
       "      <td>1.696865</td>\n",
       "      <td>-0.441602</td>\n",
       "    </tr>\n",
       "  </tbody>\n",
       "</table>\n",
       "</div>"
      ],
      "text/plain": [
       "       person_age  person_income  person_emp_length  loan_amnt  loan_int_rate  \\\n",
       "26073    1.131193       0.911061           3.397805   0.262321       2.346547   \n",
       "22      -0.888700       0.228243          -0.187333  -0.145113       2.128837   \n",
       "23440    0.198935       0.134624           1.963750  -0.756264       0.107710   \n",
       "32024    1.597322      -1.456746          -0.665352  -0.501618      -0.005469   \n",
       "908     -0.888700      -0.183680           0.290685   2.095775      -0.005469   \n",
       "\n",
       "       loan_percent_income  cb_person_cred_hist_length  \n",
       "26073            -0.469634                    0.783987  \n",
       "22                3.298191                   -0.441602  \n",
       "23440            -0.846417                    0.293751  \n",
       "32024             1.320083                    2.254693  \n",
       "908               1.696865                   -0.441602  "
      ]
     },
     "execution_count": 30,
     "metadata": {},
     "output_type": "execute_result"
    }
   ],
   "source": [
    "# Scaling the Numericals Features for test\n",
    "\n",
    "X_test_num_rescaled = pd.DataFrame(scaler.transform(X_test_num), \n",
    "                                    columns = X_test_num.columns, \n",
    "                                    index = X_test_num.index)\n",
    "\n",
    "X_test_num_rescaled.head()"
   ]
  },
  {
   "cell_type": "code",
   "execution_count": 31,
   "id": "b0ce6d9e",
   "metadata": {},
   "outputs": [
    {
     "data": {
      "text/html": [
       "<div>\n",
       "<style scoped>\n",
       "    .dataframe tbody tr th:only-of-type {\n",
       "        vertical-align: middle;\n",
       "    }\n",
       "\n",
       "    .dataframe tbody tr th {\n",
       "        vertical-align: top;\n",
       "    }\n",
       "\n",
       "    .dataframe thead th {\n",
       "        text-align: right;\n",
       "    }\n",
       "</style>\n",
       "<table border=\"1\" class=\"dataframe\">\n",
       "  <thead>\n",
       "    <tr style=\"text-align: right;\">\n",
       "      <th></th>\n",
       "      <th>person_home_ownership</th>\n",
       "      <th>loan_intent</th>\n",
       "      <th>loan_grade</th>\n",
       "      <th>cb_person_default_on_file</th>\n",
       "    </tr>\n",
       "  </thead>\n",
       "  <tbody>\n",
       "    <tr>\n",
       "      <th>26073</th>\n",
       "      <td>MORTGAGE</td>\n",
       "      <td>DEBTCONSOLIDATION</td>\n",
       "      <td>D</td>\n",
       "      <td>Y</td>\n",
       "    </tr>\n",
       "    <tr>\n",
       "      <th>22</th>\n",
       "      <td>RENT</td>\n",
       "      <td>EDUCATION</td>\n",
       "      <td>D</td>\n",
       "      <td>N</td>\n",
       "    </tr>\n",
       "    <tr>\n",
       "      <th>23440</th>\n",
       "      <td>MORTGAGE</td>\n",
       "      <td>DEBTCONSOLIDATION</td>\n",
       "      <td>B</td>\n",
       "      <td>N</td>\n",
       "    </tr>\n",
       "    <tr>\n",
       "      <th>32024</th>\n",
       "      <td>OWN</td>\n",
       "      <td>HOMEIMPROVEMENT</td>\n",
       "      <td>B</td>\n",
       "      <td>N</td>\n",
       "    </tr>\n",
       "    <tr>\n",
       "      <th>908</th>\n",
       "      <td>RENT</td>\n",
       "      <td>VENTURE</td>\n",
       "      <td>A</td>\n",
       "      <td>N</td>\n",
       "    </tr>\n",
       "  </tbody>\n",
       "</table>\n",
       "</div>"
      ],
      "text/plain": [
       "      person_home_ownership        loan_intent loan_grade  \\\n",
       "26073              MORTGAGE  DEBTCONSOLIDATION          D   \n",
       "22                     RENT          EDUCATION          D   \n",
       "23440              MORTGAGE  DEBTCONSOLIDATION          B   \n",
       "32024                   OWN    HOMEIMPROVEMENT          B   \n",
       "908                    RENT            VENTURE          A   \n",
       "\n",
       "      cb_person_default_on_file  \n",
       "26073                         Y  \n",
       "22                            N  \n",
       "23440                         N  \n",
       "32024                         N  \n",
       "908                           N  "
      ]
     },
     "execution_count": 31,
     "metadata": {},
     "output_type": "execute_result"
    }
   ],
   "source": [
    "X_test_cat = X_test.select_dtypes(include = ['object'])\n",
    "\n",
    "X_test_cat.head()"
   ]
  },
  {
   "cell_type": "code",
   "execution_count": 32,
   "id": "bde08a0b",
   "metadata": {},
   "outputs": [
    {
     "data": {
      "text/html": [
       "<div>\n",
       "<style scoped>\n",
       "    .dataframe tbody tr th:only-of-type {\n",
       "        vertical-align: middle;\n",
       "    }\n",
       "\n",
       "    .dataframe tbody tr th {\n",
       "        vertical-align: top;\n",
       "    }\n",
       "\n",
       "    .dataframe thead th {\n",
       "        text-align: right;\n",
       "    }\n",
       "</style>\n",
       "<table border=\"1\" class=\"dataframe\">\n",
       "  <thead>\n",
       "    <tr style=\"text-align: right;\">\n",
       "      <th></th>\n",
       "      <th>person_home_ownership</th>\n",
       "      <th>loan_intent</th>\n",
       "      <th>loan_grade</th>\n",
       "      <th>cb_person_default_on_file</th>\n",
       "    </tr>\n",
       "  </thead>\n",
       "  <tbody>\n",
       "    <tr>\n",
       "      <th>26073</th>\n",
       "      <td>0</td>\n",
       "      <td>0</td>\n",
       "      <td>3</td>\n",
       "      <td>1</td>\n",
       "    </tr>\n",
       "    <tr>\n",
       "      <th>22</th>\n",
       "      <td>3</td>\n",
       "      <td>1</td>\n",
       "      <td>3</td>\n",
       "      <td>0</td>\n",
       "    </tr>\n",
       "    <tr>\n",
       "      <th>23440</th>\n",
       "      <td>0</td>\n",
       "      <td>0</td>\n",
       "      <td>1</td>\n",
       "      <td>0</td>\n",
       "    </tr>\n",
       "    <tr>\n",
       "      <th>32024</th>\n",
       "      <td>2</td>\n",
       "      <td>2</td>\n",
       "      <td>1</td>\n",
       "      <td>0</td>\n",
       "    </tr>\n",
       "    <tr>\n",
       "      <th>908</th>\n",
       "      <td>3</td>\n",
       "      <td>5</td>\n",
       "      <td>0</td>\n",
       "      <td>0</td>\n",
       "    </tr>\n",
       "  </tbody>\n",
       "</table>\n",
       "</div>"
      ],
      "text/plain": [
       "       person_home_ownership  loan_intent  loan_grade  \\\n",
       "26073                      0            0           3   \n",
       "22                         3            1           3   \n",
       "23440                      0            0           1   \n",
       "32024                      2            2           1   \n",
       "908                        3            5           0   \n",
       "\n",
       "       cb_person_default_on_file  \n",
       "26073                          1  \n",
       "22                             0  \n",
       "23440                          0  \n",
       "32024                          0  \n",
       "908                            0  "
      ]
     },
     "execution_count": 32,
     "metadata": {},
     "output_type": "execute_result"
    }
   ],
   "source": [
    "# labelencoding to the Categorical Features\n",
    "from sklearn.preprocessing import LabelEncoder\n",
    "\n",
    "le = LabelEncoder()\n",
    "\n",
    "X_test_cat['person_home_ownership'] = le.fit_transform(X_test['person_home_ownership'])\n",
    "X_test_cat['loan_intent'] = le.fit_transform(X_test['loan_intent'])\n",
    "X_test_cat['loan_grade'] = le.fit_transform(X_test['loan_grade'])\n",
    "X_test_cat['cb_person_default_on_file'] = le.fit_transform(X_test['cb_person_default_on_file'])\n",
    "\n",
    "X_test_cat.head()"
   ]
  },
  {
   "cell_type": "code",
   "execution_count": 33,
   "id": "e3117b45",
   "metadata": {},
   "outputs": [
    {
     "data": {
      "text/html": [
       "<div>\n",
       "<style scoped>\n",
       "    .dataframe tbody tr th:only-of-type {\n",
       "        vertical-align: middle;\n",
       "    }\n",
       "\n",
       "    .dataframe tbody tr th {\n",
       "        vertical-align: top;\n",
       "    }\n",
       "\n",
       "    .dataframe thead th {\n",
       "        text-align: right;\n",
       "    }\n",
       "</style>\n",
       "<table border=\"1\" class=\"dataframe\">\n",
       "  <thead>\n",
       "    <tr style=\"text-align: right;\">\n",
       "      <th></th>\n",
       "      <th>person_age</th>\n",
       "      <th>person_income</th>\n",
       "      <th>person_emp_length</th>\n",
       "      <th>loan_amnt</th>\n",
       "      <th>loan_int_rate</th>\n",
       "      <th>loan_percent_income</th>\n",
       "      <th>cb_person_cred_hist_length</th>\n",
       "      <th>person_home_ownership</th>\n",
       "      <th>loan_intent</th>\n",
       "      <th>loan_grade</th>\n",
       "      <th>cb_person_default_on_file</th>\n",
       "    </tr>\n",
       "  </thead>\n",
       "  <tbody>\n",
       "    <tr>\n",
       "      <th>26073</th>\n",
       "      <td>1.131193</td>\n",
       "      <td>0.911061</td>\n",
       "      <td>3.397805</td>\n",
       "      <td>0.262321</td>\n",
       "      <td>2.346547</td>\n",
       "      <td>-0.469634</td>\n",
       "      <td>0.783987</td>\n",
       "      <td>0</td>\n",
       "      <td>0</td>\n",
       "      <td>3</td>\n",
       "      <td>1</td>\n",
       "    </tr>\n",
       "    <tr>\n",
       "      <th>22</th>\n",
       "      <td>-0.888700</td>\n",
       "      <td>0.228243</td>\n",
       "      <td>-0.187333</td>\n",
       "      <td>-0.145113</td>\n",
       "      <td>2.128837</td>\n",
       "      <td>3.298191</td>\n",
       "      <td>-0.441602</td>\n",
       "      <td>3</td>\n",
       "      <td>1</td>\n",
       "      <td>3</td>\n",
       "      <td>0</td>\n",
       "    </tr>\n",
       "    <tr>\n",
       "      <th>23440</th>\n",
       "      <td>0.198935</td>\n",
       "      <td>0.134624</td>\n",
       "      <td>1.963750</td>\n",
       "      <td>-0.756264</td>\n",
       "      <td>0.107710</td>\n",
       "      <td>-0.846417</td>\n",
       "      <td>0.293751</td>\n",
       "      <td>0</td>\n",
       "      <td>0</td>\n",
       "      <td>1</td>\n",
       "      <td>0</td>\n",
       "    </tr>\n",
       "    <tr>\n",
       "      <th>32024</th>\n",
       "      <td>1.597322</td>\n",
       "      <td>-1.456746</td>\n",
       "      <td>-0.665352</td>\n",
       "      <td>-0.501618</td>\n",
       "      <td>-0.005469</td>\n",
       "      <td>1.320083</td>\n",
       "      <td>2.254693</td>\n",
       "      <td>2</td>\n",
       "      <td>2</td>\n",
       "      <td>1</td>\n",
       "      <td>0</td>\n",
       "    </tr>\n",
       "    <tr>\n",
       "      <th>908</th>\n",
       "      <td>-0.888700</td>\n",
       "      <td>-0.183680</td>\n",
       "      <td>0.290685</td>\n",
       "      <td>2.095775</td>\n",
       "      <td>-0.005469</td>\n",
       "      <td>1.696865</td>\n",
       "      <td>-0.441602</td>\n",
       "      <td>3</td>\n",
       "      <td>5</td>\n",
       "      <td>0</td>\n",
       "      <td>0</td>\n",
       "    </tr>\n",
       "  </tbody>\n",
       "</table>\n",
       "</div>"
      ],
      "text/plain": [
       "       person_age  person_income  person_emp_length  loan_amnt  loan_int_rate  \\\n",
       "26073    1.131193       0.911061           3.397805   0.262321       2.346547   \n",
       "22      -0.888700       0.228243          -0.187333  -0.145113       2.128837   \n",
       "23440    0.198935       0.134624           1.963750  -0.756264       0.107710   \n",
       "32024    1.597322      -1.456746          -0.665352  -0.501618      -0.005469   \n",
       "908     -0.888700      -0.183680           0.290685   2.095775      -0.005469   \n",
       "\n",
       "       loan_percent_income  cb_person_cred_hist_length  person_home_ownership  \\\n",
       "26073            -0.469634                    0.783987                      0   \n",
       "22                3.298191                   -0.441602                      3   \n",
       "23440            -0.846417                    0.293751                      0   \n",
       "32024             1.320083                    2.254693                      2   \n",
       "908               1.696865                   -0.441602                      3   \n",
       "\n",
       "       loan_intent  loan_grade  cb_person_default_on_file  \n",
       "26073            0           3                          1  \n",
       "22               1           3                          0  \n",
       "23440            0           1                          0  \n",
       "32024            2           1                          0  \n",
       "908              5           0                          0  "
      ]
     },
     "execution_count": 33,
     "metadata": {},
     "output_type": "execute_result"
    }
   ],
   "source": [
    "X_test_transformed = pd.concat([X_test_num_rescaled, X_test_cat], axis = 1)\n",
    "\n",
    "X_test_transformed.head()"
   ]
  },
  {
   "cell_type": "markdown",
   "id": "86f06857",
   "metadata": {},
   "source": [
    "## Step - 6: Model Training Phase - Use all the algorithms mentioned below to train separate models:\n",
    "- KNN\n",
    "- Logistic Regression\n",
    "- Support Vector Machines\n",
    "- Decision Trees\n",
    "- Random Forest"
   ]
  },
  {
   "cell_type": "markdown",
   "id": "c59163fc",
   "metadata": {},
   "source": [
    "## Step - 7: Predict and evaluate each model separately using the correct evaluation metric. Use metrics.accuracy(actual, predict)."
   ]
  },
  {
   "cell_type": "code",
   "execution_count": 34,
   "id": "72576fe2",
   "metadata": {},
   "outputs": [],
   "source": [
    "from sklearn.metrics import f1_score\n",
    "from sklearn.metrics import log_loss\n",
    "from sklearn.metrics import accuracy_score\n",
    "import sklearn.metrics as metrics"
   ]
  },
  {
   "cell_type": "markdown",
   "id": "fe4d9840",
   "metadata": {},
   "source": [
    "## 1. KNN classifier"
   ]
  },
  {
   "cell_type": "code",
   "execution_count": 35,
   "id": "469db28e",
   "metadata": {},
   "outputs": [
    {
     "name": "stdout",
     "output_type": "stream",
     "text": [
      "Training Accuracy :  0.9157970038714022\n",
      "Test Accuracy  0.8905579399141631\n"
     ]
    }
   ],
   "source": [
    "from sklearn.neighbors import KNeighborsClassifier\n",
    "\n",
    "knn = KNeighborsClassifier()\n",
    "\n",
    "knn.fit(X_train_transformed, y_train)\n",
    "\n",
    "y_test_pred = knn.predict(X_test_transformed)\n",
    "\n",
    "y_train_pred = knn.predict(X_train_transformed)\n",
    "\n",
    "knn_ac_test = accuracy_score(y_test, y_test_pred)\n",
    "\n",
    "knn_ac_train = accuracy_score(y_train, y_train_pred)\n",
    "\n",
    "print(\"Training Accuracy : \", knn_ac_train)\n",
    "print(\"Test Accuracy \", knn_ac_test)"
   ]
  },
  {
   "cell_type": "markdown",
   "id": "a04c92de",
   "metadata": {},
   "source": [
    "## 2. Logestic Regresion"
   ]
  },
  {
   "cell_type": "code",
   "execution_count": 36,
   "id": "710dcd4e",
   "metadata": {},
   "outputs": [
    {
     "name": "stdout",
     "output_type": "stream",
     "text": [
      "Training Accuracy :  0.8479633058407675\n",
      "Test Accuracy  0.8471345619792982\n"
     ]
    }
   ],
   "source": [
    "from sklearn.linear_model import LogisticRegression\n",
    "\n",
    "lr = LogisticRegression()\n",
    "\n",
    "lr.fit(X_train_transformed, y_train)\n",
    "\n",
    "y_test_pred = lr.predict(X_test_transformed)\n",
    "\n",
    "y_train_pred = lr.predict(X_train_transformed)\n",
    "\n",
    "lr_ac_test = accuracy_score(y_test, y_test_pred)\n",
    "\n",
    "lr_ac_train = accuracy_score(y_train, y_train_pred)\n",
    "\n",
    "print(\"Training Accuracy : \", lr_ac_train)\n",
    "print(\"Test Accuracy \", lr_ac_test)"
   ]
  },
  {
   "cell_type": "markdown",
   "id": "08017a53",
   "metadata": {},
   "source": [
    "## 3. Support Vector Machine"
   ]
  },
  {
   "cell_type": "code",
   "execution_count": 37,
   "id": "2478c213",
   "metadata": {},
   "outputs": [
    {
     "name": "stdout",
     "output_type": "stream",
     "text": [
      "Training Accuracy :  0.8924844302306009\n",
      "Test Accuracy  0.8896743246654885\n"
     ]
    }
   ],
   "source": [
    "from sklearn.svm import SVC\n",
    "\n",
    "svm = SVC()\n",
    "\n",
    "svm.fit(X_train_transformed, y_train)\n",
    "\n",
    "y_test_pred = svm.predict(X_test_transformed)\n",
    "\n",
    "y_train_pred = svm.predict(X_train_transformed)\n",
    "\n",
    "svm_ac_test = accuracy_score(y_test, y_test_pred)\n",
    "\n",
    "svm_ac_train = accuracy_score(y_train, y_train_pred)\n",
    "\n",
    "print(\"Training Accuracy : \", svm_ac_train)\n",
    "print(\"Test Accuracy \", svm_ac_test)"
   ]
  },
  {
   "cell_type": "markdown",
   "id": "c6c26daf",
   "metadata": {},
   "source": [
    "## 4. Decision Tree"
   ]
  },
  {
   "cell_type": "code",
   "execution_count": 38,
   "id": "be675fdd",
   "metadata": {},
   "outputs": [
    {
     "name": "stdout",
     "output_type": "stream",
     "text": [
      "Training Accuracy :  1.0\n",
      "Test Accuracy  0.8908104014137844\n"
     ]
    }
   ],
   "source": [
    "from sklearn.tree import DecisionTreeClassifier\n",
    "\n",
    "dt = DecisionTreeClassifier()\n",
    "\n",
    "dt.fit(X_train_transformed, y_train)\n",
    "\n",
    "y_test_pred = dt.predict(X_test_transformed)\n",
    "\n",
    "y_train_pred = dt.predict(X_train_transformed)\n",
    "\n",
    "dt_ac_test = accuracy_score(y_test, y_test_pred)\n",
    "\n",
    "dt_ac_train = accuracy_score(y_train, y_train_pred)\n",
    "\n",
    "print(\"Training Accuracy : \", dt_ac_train)\n",
    "print(\"Test Accuracy \", dt_ac_test)"
   ]
  },
  {
   "cell_type": "markdown",
   "id": "d2ec0a0c",
   "metadata": {},
   "source": [
    "## 5. Random Forest"
   ]
  },
  {
   "cell_type": "code",
   "execution_count": 39,
   "id": "99aa8a48",
   "metadata": {},
   "outputs": [
    {
     "name": "stdout",
     "output_type": "stream",
     "text": [
      "Training Accuracy :  1.0\n",
      "Test Accuracy  0.9291845493562232\n"
     ]
    }
   ],
   "source": [
    "from sklearn.ensemble import RandomForestClassifier\n",
    "\n",
    "rf = RandomForestClassifier()\n",
    "\n",
    "rf.fit(X_train_transformed, y_train)\n",
    "\n",
    "y_test_pred = rf.predict(X_test_transformed)\n",
    "\n",
    "y_train_pred = rf.predict(X_train_transformed)\n",
    "\n",
    "rf_ac_test = accuracy_score(y_test, y_test_pred)\n",
    "\n",
    "rf_ac_train = accuracy_score(y_train, y_train_pred)\n",
    "\n",
    "print(\"Training Accuracy : \", rf_ac_train)\n",
    "print(\"Test Accuracy \", rf_ac_test)"
   ]
  },
  {
   "cell_type": "markdown",
   "id": "f495b360",
   "metadata": {},
   "source": [
    "## Step - 8: Display a plot which shows all the algorithms applied along with the accuracies achieved. Write your conclusion on the best algorithm for Credit Risk Scoring."
   ]
  },
  {
   "cell_type": "code",
   "execution_count": 40,
   "id": "2556be53",
   "metadata": {},
   "outputs": [
    {
     "data": {
      "text/plain": [
       "{'K Nearest Neighbour': 0.8905579399141631,\n",
       " 'Logistic Regression': 0.8471345619792982,\n",
       " 'Support Vector Machine': 0.8896743246654885,\n",
       " 'Decision tree': 0.8471345619792982,\n",
       " 'Random Forest': 0.9291845493562232}"
      ]
     },
     "execution_count": 40,
     "metadata": {},
     "output_type": "execute_result"
    }
   ],
   "source": [
    "x = {'K Nearest Neighbour': knn_ac_test, 'Logistic Regression' : lr_ac_test, 'Support Vector Machine' : svm_ac_test,'Decision tree' : dt_ac_test, 'Random Forest' : rf_ac_test}\n",
    "\n",
    "x"
   ]
  },
  {
   "cell_type": "code",
   "execution_count": 41,
   "id": "dcb69d55",
   "metadata": {},
   "outputs": [
    {
     "data": {
      "text/html": [
       "<div>\n",
       "<style scoped>\n",
       "    .dataframe tbody tr th:only-of-type {\n",
       "        vertical-align: middle;\n",
       "    }\n",
       "\n",
       "    .dataframe tbody tr th {\n",
       "        vertical-align: top;\n",
       "    }\n",
       "\n",
       "    .dataframe thead th {\n",
       "        text-align: right;\n",
       "    }\n",
       "</style>\n",
       "<table border=\"1\" class=\"dataframe\">\n",
       "  <thead>\n",
       "    <tr style=\"text-align: right;\">\n",
       "      <th></th>\n",
       "      <th>accuracy</th>\n",
       "    </tr>\n",
       "  </thead>\n",
       "  <tbody>\n",
       "    <tr>\n",
       "      <th>K Nearest Neighbour</th>\n",
       "      <td>0.890558</td>\n",
       "    </tr>\n",
       "    <tr>\n",
       "      <th>Logistic Regression</th>\n",
       "      <td>0.847135</td>\n",
       "    </tr>\n",
       "    <tr>\n",
       "      <th>Support Vector Machine</th>\n",
       "      <td>0.889674</td>\n",
       "    </tr>\n",
       "    <tr>\n",
       "      <th>Decision tree</th>\n",
       "      <td>0.847135</td>\n",
       "    </tr>\n",
       "    <tr>\n",
       "      <th>Random Forest</th>\n",
       "      <td>0.929185</td>\n",
       "    </tr>\n",
       "  </tbody>\n",
       "</table>\n",
       "</div>"
      ],
      "text/plain": [
       "                        accuracy\n",
       "K Nearest Neighbour     0.890558\n",
       "Logistic Regression     0.847135\n",
       "Support Vector Machine  0.889674\n",
       "Decision tree           0.847135\n",
       "Random Forest           0.929185"
      ]
     },
     "execution_count": 41,
     "metadata": {},
     "output_type": "execute_result"
    }
   ],
   "source": [
    "accuracy = pd.DataFrame.from_dict(x, orient='index', columns=['accuracy'])\n",
    "\n",
    "accuracy"
   ]
  },
  {
   "cell_type": "code",
   "execution_count": 42,
   "id": "dc859252",
   "metadata": {},
   "outputs": [
    {
     "data": {
      "image/png": "[encoded data removed]",
      "text/plain": [
       "<Figure size 1080x360 with 1 Axes>"
      ]
     },
     "metadata": {
      "needs_background": "light"
     },
     "output_type": "display_data"
    }
   ],
   "source": [
    "plt.figure(figsize=(15,5))\n",
    "\n",
    "sns.barplot(x = accuracy.index , y = accuracy['accuracy'])\n",
    "\n",
    "plt.title('Model Performance Comparison')\n",
    "\n",
    "plt.xlabel('Model')\n",
    "\n",
    "plt.xticks(rotation=45)\n",
    "\n",
    "plt.show()"
   ]
  },
  {
   "cell_type": "markdown",
   "id": "34aa9c0c",
   "metadata": {},
   "source": [
    "### Conclusion - As per the above bar plot of all the models accurcay comaparison Random Forest has given the best accuracy on the Banking domain dataset and it is the best algorithm for CreditRisk Scoring"
   ]
  },
  {
   "cell_type": "code",
   "execution_count": null,
   "id": "a75d5e61",
   "metadata": {},
   "outputs": [],
   "source": []
  }
 ],
 "metadata": {
  "kernelspec": {
   "display_name": "Python 3 (ipykernel)",
   "language": "python",
   "name": "python3"
  },
  "language_info": {
   "codemirror_mode": {
    "name": "ipython",
    "version": 3
   },
   "file_extension": ".py",
   "mimetype": "text/x-python",
   "name": "python",
   "nbconvert_exporter": "python",
   "pygments_lexer": "ipython3",
   "version": "3.9.12"
  }
 },
 "nbformat": 4,
 "nbformat_minor": 5
}
